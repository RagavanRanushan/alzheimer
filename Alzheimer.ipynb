{
 "cells": [
  {
   "cell_type": "code",
   "execution_count": 1,
   "id": "0a056aa2",
   "metadata": {},
   "outputs": [],
   "source": [
    "import numpy as np\n",
    "import pandas as pd\n",
    "from keras import layers\n",
    "from keras.preprocessing.image import ImageDataGenerator\n",
    "import tensorflow as tf\n",
    "from matplotlib import pyplot as plt\n",
    "\n",
    "from sklearn.model_selection import train_test_split\n",
    "\n",
    "import pathlib\n",
    "import cv2\n",
    "import os\n",
    "import shutil\n",
    "import re\n",
    "import time\n",
    "\n",
    "import random"
   ]
  },
  {
   "cell_type": "markdown",
   "id": "a4f30974",
   "metadata": {},
   "source": [
    "## Plan \n",
    "\n",
    "1) division des données\n",
    "\n",
    "2) generation d'images via gan\n",
    "\n",
    "3) 1er modele et resultat\n",
    "\n",
    "4) amélioration de la qualité des images via vae\n",
    "\n",
    "5) 1er modèle entrainer sur les images améliorer\n",
    "\n",
    "6) Prédiction avec YOLO\n",
    "\n",
    "## Division des données\n",
    "\n",
    "Nous disposant de 4 dossiers contenant chacune une catégorie d'image.\n",
    "* MildDemented contient 896 fichier\n",
    "* ModerateDemented:64 fichier\n",
    "* NonDemented: 3200 fichier\n",
    "* VeryMildDemented: 2240 fichier\n",
    "\n",
    "On remarque que les classes sont désequilibré notamment pour la catégorie ModerateDemented qui n'a que 64 images. \n",
    "\n",
    "\n",
    "Commençons par scindé ces dossiers en 3 dossiers afin d'avoir un jeu de donnée pour les étapes de validation, d'entrainement et de test."
   ]
  },
  {
   "cell_type": "code",
   "execution_count": null,
   "id": "93792f3c",
   "metadata": {},
   "outputs": [],
   "source": [
    "\n",
    "# On renomme les images afin de facilité la réorganisation\n",
    "path=\"C:/Users/ranus/alzheimer/archive(1)/OriginalDataset\"\n",
    "folder_path=[]\n",
    "cat=[]\n",
    "for dirname,_, filename in os.walk(path):\n",
    "    folder_path.append(dirname)\n",
    "    cat.append(re.sub(\"\\\\\\\\\",\"/\",dirname).split('/')[-1])\n",
    "\n",
    "\n",
    "del cat[0]    \n",
    "del folder_path[0] #On retire le 1er élément qui correspond au chemin path\n",
    "\n",
    "for i in range(len(folder_path)):\n",
    "    folder_path[i]=re.sub(\"\\\\\\\\\",\"/\",folder_path[i]) #On corrige les antislash en slash\n",
    "\n",
    "    \n",
    "#On renomme les fichiers\n",
    "k=0 #Accumulateur pour parcourir la liste des labels\n",
    "for pat in folder_path:\n",
    "    j=0 #initalisationde l'accumulateur\n",
    "    for dirname ,_, filenames  in os.walk(pat):\n",
    "        for file in filenames:\n",
    "            a=re.sub(\"\\\\\\\\\",\"/\",os.path.join(pat,file))\n",
    "            b=re.sub(\"\\\\\\\\\",\"/\",os.path.join(pat,cat[k]+str(j)+'.jpg'))\n",
    "            #os.rename(a,b)\n",
    "            j+=1\n",
    "    k+=1\n",
    "\n",
    "#Créations de liste contenant les différents composante des futurs chemin d'accés\n",
    "l=[]\n",
    "cat=[]\n",
    "for dirname ,_, filenames  in os.walk(path):\n",
    "    cat.append(dirname.split(\"\\\\\")[-1])\n",
    "    l.append(dirname)\n",
    "del cat[0]\n",
    "a=[\"train_dir\",\"validation_dir\",\"test_dir\"]\n",
    "\n",
    "\n",
    "#Renommons toutes les fichier de chaque dossier afin de faciliter le copie.\n",
    "\n",
    "\n",
    "#Création des dossier vide et copie des images\n",
    "path2=re.sub(\"\\\\\\\\\",\"/\",os.path.join(path,\"SplitData\"))\n",
    "os.mkdir(path2)\n",
    "\n",
    "for A in a:\n",
    "    os.mkdir(re.sub(\"\\\\\\\\\",'/',os.path.join(path2,A)))\n",
    "\n",
    "for i in cat:\n",
    "    p0=re.sub(\"\\\\\\\\\",\"/\",os.path.join(path,i))\n",
    "    n=len(os.listdir(p0))#compte le nombre d'element du fichier i\n",
    "    fnames=os.listdir(p0)\n",
    "    for j in a:\n",
    "        p=re.sub(\"\\\\\\\\\",\"/\",os.path.join(path2,j,i))\n",
    "        os.mkdir(str(p))\n",
    "            #fnames=['{}.jpg' for k in range(0,2*n//4)]# 50% des données serviront à l'entrainement.\n",
    "        if j==\"train_dir\":\n",
    "            for k in range(0,2*n//4):\n",
    "            #for fname in fnames:\n",
    "                src=re.sub(\"\\\\\\\\\",\"/\",os.path.join(p0,fnames[k]))\n",
    "                dst=re.sub(\"\\\\\\\\\",\"/\",os.path.join(p,i+str(k)+\".jpg\"))\n",
    "                os.renames(src,dst)\n",
    "        elif j=='validation_dir':\n",
    "            for k in range(2*n//4,3*n//4):\n",
    "           # fnames=['{}.jpg' for k in range(2*n//4,3*n//4)]# 25% des données serviront à la validation.\n",
    "            #for fname in fnames:\n",
    "                src=re.sub(\"\\\\\\\\\",\"/\",os.path.join(p0,fnames[k]))\n",
    "                dst=re.sub(\"\\\\\\\\\",\"/\",os.path.join(p,i+str(k)+\".jpg\"))\n",
    "                os.renames(src,dst)\n",
    "        elif j=='test_dir':\n",
    "        #fnames=['{}.jpg' for k in range(3*n//4,n)]# 25% des données serviront à tester le modèle.\n",
    "       # for fname in fnames:\n",
    "            for k in range(3*n//4,n):\n",
    "                src=re.sub(\"\\\\\\\\\",\"/\",os.path.join(p0,fnames[k]))\n",
    "                dst=re.sub(\"\\\\\\\\\",\"/\",os.path.join(p,i+str(k)+\".jpg\"))\n",
    "                os.renames(src,dst)"
   ]
  },
  {
   "cell_type": "markdown",
   "id": "e127e310",
   "metadata": {},
   "source": [
    "## Generation d'image via un réseau GAN\n",
    "\n",
    "Afin de résoudre le problème des classes déséquilibrés souligné plus tôt, on va créer des images à l'aide d'un réseau GAN.\n",
    "De plus pour éviter de créer des images appartenant aux autres catégorie nous les utiliserons pour entrainer le discriminant."
   ]
  },
  {
   "cell_type": "code",
   "execution_count": 2,
   "id": "e6ad510c",
   "metadata": {},
   "outputs": [
    {
     "data": {
      "text/plain": [
       "(208, 176, 3)"
      ]
     },
     "execution_count": 2,
     "metadata": {},
     "output_type": "execute_result"
    },
    {
     "data": {
      "image/png": "[encoded data removed]",
      "text/plain": [
       "<Figure size 432x288 with 1 Axes>"
      ]
     },
     "metadata": {
      "needs_background": "light"
     },
     "output_type": "display_data"
    }
   ],
   "source": [
    "path=\"C:/Users/ranus/alzheimer/archive(1)/OriginalDataset\"\n",
    "liste=[]\n",
    "for dirname,_,filenames in os.walk(path):\n",
    "    #if dirname=='ModerateDemented':\n",
    "    for file in filenames:\n",
    "        liste+=[re.sub(\"\\\\\\\\\",\"/\",os.path.join(dirname,file))]\n",
    "im=cv2.imread(liste[0])\n",
    "plt.imshow(im)\n",
    "im.shape\n"
   ]
  },
  {
   "cell_type": "code",
   "execution_count": 3,
   "id": "4470f26a",
   "metadata": {},
   "outputs": [
    {
     "ename": "SyntaxError",
     "evalue": "invalid syntax (2791887689.py, line 37)",
     "output_type": "error",
     "traceback": [
      "\u001b[1;36m  Input \u001b[1;32mIn [3]\u001b[1;36m\u001b[0m\n\u001b[1;33m    model.add(layers.LeakyRelu())\u001b[0m\n\u001b[1;37m    ^\u001b[0m\n\u001b[1;31mSyntaxError\u001b[0m\u001b[1;31m:\u001b[0m invalid syntax\n"
     ]
    }
   ],
   "source": [
    "def generateur_model():\n",
    "    model=tf.keras.Sequential()\n",
    "    model.add(layers.Dense(208*176*3, use_bias=False, input_shape=[208,176,3])) #initialisation d'un vecteur bruit\n",
    "    model.add(layers.BatchNormalization())\n",
    "    model.add(layers.LeakyReLU())\n",
    "    model.add(layers.Reshape((208,176,3)))\n",
    "    \n",
    "    model.add(layers.Conv2DTranspose(512,(5,5),strides=(2,2),padding='same',use_bias=False))\n",
    "    model.add(layers.BatchNormalization())\n",
    "    model.add(layers.LeakyReLU())\n",
    "    \n",
    "    model.add(layers.Conv2DTranspose(256,(5,5),strides=(2,2),padding='same',use_bias=False))\n",
    "    model.add(layers.BatchNormalization())\n",
    "    model.add(layers.LeakyReLU())\n",
    "    \n",
    "    model.add(layers.Conv2DTranspose(128),(5,5),strides=(2,2),padding=\"same\",use_bias=False)\n",
    "    model.add(layers.BatchNormalization())\n",
    "    model.add(layers.LeakyReLU())\n",
    "    \n",
    "    model.add(layers.Conv2DTranspose(64),(5,5),strides=(2,2),padding=\"same\",use_bias=False)\n",
    "    model.add(layers.BatchNormalization())\n",
    "    model.add(layers.LeakyReLU())\n",
    "    \n",
    "    model.add(layers.Conv2DTranspose(1,(5,5),strides=(2,2),padding='same',use_bias=False,activation='tanh'))\n",
    "    \n",
    "    return model\n",
    "\n",
    "def discriminant_model():\n",
    "    model=tf.keras.Sequential()\n",
    "  \n",
    "    model.add(layers.Dense(4*4*1024, use_bias=False, input_shape=[208,176,3]))\n",
    "    model.add(layers.BatchNormalization())\n",
    "    model.add(layers.LeakyReLu())\n",
    "    \n",
    "   \n",
    "    model.add(layers.Conv2D(256,(5,5),stides(2,2),padding='same')\n",
    "    model.add(layers.LeakyRelu()) \n",
    "    \n",
    "    model.add(layers.Conv2D(128,(5,5),stides(2,2),padding='same')\n",
    "    model.add(layers.LeakyRelu()) \n",
    "    \n",
    "    model.add(layers.Conv2D(64,(5,5),stides(2,2),padding='same')\n",
    "    model.add(layers.LeakyRelu()) \n",
    "    model.add(layers.Dense(1,activation'sigmoid'))"
   ]
  },
  {
   "cell_type": "markdown",
   "id": "47761fca",
   "metadata": {},
   "source": [
    "## Pré traitement des données\n",
    "\n",
    "Convertissons les images en tenseur."
   ]
  },
  {
   "cell_type": "code",
   "execution_count": 35,
   "id": "115ca5ff",
   "metadata": {
    "scrolled": true
   },
   "outputs": [
    {
     "name": "stdout",
     "output_type": "stream",
     "text": [
      "Found 3173 files belonging to 4 classes.\n",
      "Found 1587 files belonging to 4 classes.\n",
      "Found 1587 files belonging to 4 classes.\n"
     ]
    }
   ],
   "source": [
    "train_dir=\"C:/Users/ranus/alzheimer/archive(1)/OriginalDataset/SplitData/train_dir\"\n",
    "valid_dir=\"C:/Users/ranus/alzheimer/archive(1)/OriginalDataset/SplitData/validation_dir\"\n",
    "test_dir=\"C:/Users/ranus/alzheimer/archive(1)/OriginalDataset/SplitData/test_dir\"\n",
    "\n",
    "#train_datagen=ImageDataGenerator(rescale=1./255)\n",
    "#test_datagen=ImageDataGenerator(rescale=1./255)\n",
    "#valid_datagen=ImageDataGenerator(rescale=1./255)\n",
    "\n",
    "#train_generator=train_datagen.flow_from_directory(train_dir,target_size=(208,176),batch_size=20,class_mode='categorical')\n",
    "#test_generator=test_datagen.flow_from_directory(test_dir,target_size=(208,176),batch_size=20,class_mode='categorical')\n",
    "#valid_generator=valid_datagen.flow_from_directory(valid_dir,target_size=(208,176),batch_size=20,class_mode='categorical')\n",
    "\n",
    "train_generator=tf.keras.utils.image_dataset_from_directory(train_dir,labels='inferred',image_size=(100, 100),batch_size=32)\n",
    "test_generator=tf.keras.utils.image_dataset_from_directory(test_dir,labels='inferred',image_size=(100, 100),batch_size=32)\n",
    "valid_generator=tf.keras.utils.image_dataset_from_directory(valid_dir,labels='inferred',image_size=(100, 100),batch_size=32)"
   ]
  },
  {
   "cell_type": "code",
   "execution_count": 36,
   "id": "3097e882",
   "metadata": {},
   "outputs": [
    {
     "name": "stdout",
     "output_type": "stream",
     "text": [
      "['MildDemented', 'ModerateDemented', 'NonDemented', 'VeryMildDemented']\n"
     ]
    }
   ],
   "source": [
    "class_names = train_generator.class_names\n",
    "print(class_names)\n"
   ]
  },
  {
   "cell_type": "markdown",
   "id": "9d7c6e0a",
   "metadata": {},
   "source": [
    "On a bien le bon nombre de label."
   ]
  },
  {
   "cell_type": "markdown",
   "id": "5cec0f4b",
   "metadata": {},
   "source": [
    "## Classification\n",
    "\n",
    "### Modele de CNN"
   ]
  },
  {
   "cell_type": "code",
   "execution_count": 43,
   "id": "a6b80a8e",
   "metadata": {
    "scrolled": false
   },
   "outputs": [],
   "source": [
    "model=tf.keras.models.Sequential()\n",
    "\n",
    "model.add(layers.Rescaling(1./255))\n",
    "model.add(layers.Conv2D(32,(3,3),activation=\"relu\"))\n",
    "model.add(layers.MaxPooling2D((2,2)))\n",
    "model.add(layers.Conv2D(64,(3,3),activation='relu'))\n",
    "model.add(layers.Dropout(0.2))\n",
    "\n",
    "model.add(layers.MaxPooling2D((2,2)))\n",
    "model.add(layers.Conv2D(128,(3,3),activation='relu'))\n",
    "model.add(layers.Dropout(0.2))\n",
    "\n",
    "model.add(layers.MaxPooling2D((2,2)))\n",
    "model.add(layers.Conv2D(128,(3,3),activation='relu'))\n",
    "model.add(layers.MaxPooling2D((2,2)))\n",
    "\n",
    "model.add(layers.Flatten())\n",
    "model.add(layers.Dense(512,activation='relu'))\n",
    "model.add(layers.Dense(4,activation='softmax'))\n",
    "\n",
    "#model.build(input_shape=(208, 176, 3))\n",
    "#model.summary()\n",
    "\n",
    "model.compile(loss='sparse_categorical_crossentropy',optimizer='adam',metrics=[\"acc\"])\n",
    "#model.compile(loss='binary_crossentropy',optimizer='adam',metrics=[\"acc\"])\n",
    "\n",
    "#tensorboard = tf.keras.callbacks.TensorBoard(log_dir=\"logs/{}\".format(time.time()))"
   ]
  },
  {
   "cell_type": "code",
   "execution_count": 48,
   "id": "9bd94b2f",
   "metadata": {
    "scrolled": true
   },
   "outputs": [
    {
     "name": "stdout",
     "output_type": "stream",
     "text": [
      "Epoch 1/30\n",
      "100/100 [==============================] - 15s 144ms/step - loss: 0.6743 - acc: 0.7056 - val_loss: 1.3766 - val_acc: 0.3648\n",
      "Epoch 2/30\n",
      "100/100 [==============================] - 13s 129ms/step - loss: 0.5862 - acc: 0.7428 - val_loss: 1.5020 - val_acc: 0.3573\n",
      "Epoch 3/30\n",
      "100/100 [==============================] - 13s 129ms/step - loss: 0.5158 - acc: 0.7806 - val_loss: 1.2583 - val_acc: 0.3856\n",
      "Epoch 4/30\n",
      "100/100 [==============================] - 13s 131ms/step - loss: 0.4277 - acc: 0.8276 - val_loss: 1.3501 - val_acc: 0.4222\n",
      "Epoch 5/30\n",
      "100/100 [==============================] - 13s 130ms/step - loss: 0.3511 - acc: 0.8679 - val_loss: 1.6050 - val_acc: 0.4354\n",
      "Epoch 6/30\n",
      "100/100 [==============================] - 13s 130ms/step - loss: 0.2919 - acc: 0.8872 - val_loss: 1.2662 - val_acc: 0.5633\n",
      "Epoch 7/30\n",
      "100/100 [==============================] - 13s 129ms/step - loss: 0.2319 - acc: 0.9114 - val_loss: 1.9978 - val_acc: 0.4707\n",
      "Epoch 8/30\n",
      "100/100 [==============================] - 13s 130ms/step - loss: 0.1760 - acc: 0.9354 - val_loss: 1.5774 - val_acc: 0.5425\n",
      "Epoch 9/30\n",
      "100/100 [==============================] - 13s 130ms/step - loss: 0.1500 - acc: 0.9464 - val_loss: 1.2358 - val_acc: 0.6383\n",
      "Epoch 10/30\n",
      "100/100 [==============================] - 13s 128ms/step - loss: 0.0783 - acc: 0.9707 - val_loss: 2.1814 - val_acc: 0.5236\n",
      "Epoch 11/30\n",
      "100/100 [==============================] - 13s 131ms/step - loss: 0.0868 - acc: 0.9685 - val_loss: 2.3170 - val_acc: 0.4883\n",
      "Epoch 12/30\n",
      "100/100 [==============================] - 13s 128ms/step - loss: 0.0781 - acc: 0.9735 - val_loss: 1.5282 - val_acc: 0.6018\n",
      "Epoch 13/30\n",
      "100/100 [==============================] - 13s 131ms/step - loss: 0.0777 - acc: 0.9720 - val_loss: 2.1927 - val_acc: 0.5375\n",
      "Epoch 14/30\n",
      "100/100 [==============================] - 13s 129ms/step - loss: 0.0786 - acc: 0.9660 - val_loss: 1.9061 - val_acc: 0.5759\n",
      "Epoch 15/30\n",
      "100/100 [==============================] - 13s 134ms/step - loss: 0.0279 - acc: 0.9896 - val_loss: 1.7407 - val_acc: 0.6326\n",
      "Epoch 16/30\n",
      "100/100 [==============================] - 13s 129ms/step - loss: 0.0428 - acc: 0.9871 - val_loss: 1.5731 - val_acc: 0.6452\n",
      "Epoch 17/30\n",
      "100/100 [==============================] - 13s 130ms/step - loss: 0.0624 - acc: 0.9795 - val_loss: 2.1870 - val_acc: 0.5564\n",
      "Epoch 18/30\n",
      "100/100 [==============================] - 13s 128ms/step - loss: 0.0741 - acc: 0.9767 - val_loss: 1.9535 - val_acc: 0.5810\n",
      "Epoch 19/30\n",
      "100/100 [==============================] - 13s 132ms/step - loss: 0.0508 - acc: 0.9792 - val_loss: 1.8519 - val_acc: 0.5999\n",
      "Epoch 20/30\n",
      "100/100 [==============================] - 13s 131ms/step - loss: 0.0481 - acc: 0.9811 - val_loss: 2.9622 - val_acc: 0.4323\n",
      "Epoch 21/30\n",
      "100/100 [==============================] - 13s 132ms/step - loss: 0.0765 - acc: 0.9767 - val_loss: 1.7919 - val_acc: 0.6081\n",
      "Epoch 22/30\n",
      "100/100 [==============================] - 13s 133ms/step - loss: 0.0334 - acc: 0.9871 - val_loss: 1.5851 - val_acc: 0.6427\n",
      "Epoch 23/30\n",
      "100/100 [==============================] - 13s 134ms/step - loss: 0.0180 - acc: 0.9950 - val_loss: 2.2056 - val_acc: 0.5986\n",
      "Epoch 24/30\n",
      "100/100 [==============================] - 13s 134ms/step - loss: 0.0235 - acc: 0.9915 - val_loss: 1.6181 - val_acc: 0.6654\n",
      "Epoch 25/30\n",
      "100/100 [==============================] - 13s 134ms/step - loss: 0.0253 - acc: 0.9921 - val_loss: 1.4892 - val_acc: 0.6793\n",
      "Epoch 26/30\n",
      "100/100 [==============================] - 13s 133ms/step - loss: 0.0188 - acc: 0.9924 - val_loss: 1.9352 - val_acc: 0.6566\n",
      "Epoch 27/30\n",
      "100/100 [==============================] - 13s 134ms/step - loss: 0.0192 - acc: 0.9940 - val_loss: 1.9211 - val_acc: 0.6226\n",
      "Epoch 28/30\n",
      "100/100 [==============================] - 13s 134ms/step - loss: 0.0315 - acc: 0.9877 - val_loss: 2.8350 - val_acc: 0.5236\n",
      "Epoch 29/30\n",
      "100/100 [==============================] - 13s 134ms/step - loss: 0.0413 - acc: 0.9842 - val_loss: 1.8281 - val_acc: 0.6427\n",
      "Epoch 30/30\n",
      "100/100 [==============================] - 14s 136ms/step - loss: 0.0306 - acc: 0.9896 - val_loss: 2.8985 - val_acc: 0.5551\n",
      "INFO:tensorflow:Assets written to: al\\assets\n"
     ]
    }
   ],
   "source": [
    "history=model.fit(train_generator,validation_data=valid_generator,epochs=30)\n",
    "model.save(\"al\")"
   ]
  },
  {
   "cell_type": "code",
   "execution_count": 50,
   "id": "859f80b8",
   "metadata": {},
   "outputs": [],
   "source": [
    "train_acc=history.history[\"acc\"]\n",
    "val_acc=history.history['val_acc']\n",
    "train_loss=history.history[\"loss\"]\n",
    "val_loss=history.history[\"val_loss\"]"
   ]
  },
  {
   "cell_type": "code",
   "execution_count": 57,
   "id": "e9e4ebb1",
   "metadata": {
    "scrolled": true
   },
   "outputs": [
    {
     "name": "stderr",
     "output_type": "stream",
     "text": [
      "C:\\Users\\ranus\\AppData\\Local\\Temp\\ipykernel_30608\\1500591430.py:4: UserWarning: color is redundantly defined by the 'color' keyword argument and the fmt string \"bo\" (-> color='b'). The keyword argument will take precedence.\n",
      "  plt.plot(epochs,train_acc,'bo',label=\"train\",color=\"skyblue\")\n",
      "C:\\Users\\ranus\\AppData\\Local\\Temp\\ipykernel_30608\\1500591430.py:5: UserWarning: color is redundantly defined by the 'color' keyword argument and the fmt string \"b\" (-> color=(0.0, 0.0, 1.0, 1)). The keyword argument will take precedence.\n",
      "  plt.plot(epochs,val_acc,'b',label=\"validation\",color=\"darkred\")\n",
      "C:\\Users\\ranus\\AppData\\Local\\Temp\\ipykernel_30608\\1500591430.py:10: UserWarning: color is redundantly defined by the 'color' keyword argument and the fmt string \"bo\" (-> color='b'). The keyword argument will take precedence.\n",
      "  plt.plot(epochs,train_loss,'bo',label=\"train\",color=\"skyblue\")\n",
      "C:\\Users\\ranus\\AppData\\Local\\Temp\\ipykernel_30608\\1500591430.py:11: UserWarning: color is redundantly defined by the 'color' keyword argument and the fmt string \"b\" (-> color=(0.0, 0.0, 1.0, 1)). The keyword argument will take precedence.\n",
      "  plt.plot(epochs,val_loss,'b',label=\"validation\",color=\"darkred\")\n"
     ]
    },
    {
     "data": {
      "text/plain": [
       "<matplotlib.legend.Legend at 0x1f22fa853a0>"
      ]
     },
     "execution_count": 57,
     "metadata": {},
     "output_type": "execute_result"
    },
    {
     "data": {
      "image/png": "[encoded data removed]",
      "text/plain": [
       "<Figure size 432x288 with 1 Axes>"
      ]
     },
     "metadata": {},
     "output_type": "display_data"
    },
    {
     "data": {
      "image/png": "[encoded data removed]",
      "text/plain": [
       "<Figure size 432x288 with 1 Axes>"
      ]
     },
     "metadata": {},
     "output_type": "display_data"
    }
   ],
   "source": [
    "epochs=range(1,len(train_acc)+1)\n",
    "plt.style.use('ggplot')\n",
    "plt.figure()\n",
    "plt.plot(epochs,train_acc,'bo',label=\"train\",color=\"skyblue\")\n",
    "plt.plot(epochs,val_acc,'b',label=\"validation\",color=\"darkred\")\n",
    "plt.title(\"Exatitude de l'entrainement et de la validation\")\n",
    "plt.legend()\n",
    "plt.figure()\n",
    "\n",
    "plt.plot(epochs,train_loss,'bo',label=\"train\",color=\"skyblue\")\n",
    "plt.plot(epochs,val_loss,'b',label=\"validation\",color=\"darkred\")\n",
    "plt.title(\"Perte pendant l'entrainement et de la validation\")\n",
    "plt.legend()"
   ]
  },
  {
   "cell_type": "markdown",
   "id": "0bbd4ed1",
   "metadata": {},
   "source": [
    "Le modèle est clairement sur ajuster pour y remedier on pourrait rajouter des couches dropout, utiliser les régularisateur ou même faire de la data augmentations\n"
   ]
  },
  {
   "cell_type": "code",
   "execution_count": null,
   "id": "30371aa8",
   "metadata": {
    "scrolled": true
   },
   "outputs": [],
   "source": [
    "#path2=\"C:/Users/ranus/alzheimer/archive(1)/OriginalDataset\"\n",
    "#image=[]\n",
    "#categorie=[]\n",
    "#for dirname, _,filenames in os.walk(path2):\n",
    " #   for filename in filenames:\n",
    "  #      image+=[os.path.join(dirname, filename)]\n",
    "   #     categorie+=[dirname.split(\"\\\\\")[-1]]\n",
    "\n",
    "#df=pd.DataFrame({\"images\":image,\"categories\":categorie})\n",
    "#df=df.sample(frac=1)\n",
    "#df\n",
    "#df\n",
    "#np.random.shuffle(df)"
   ]
  },
  {
   "cell_type": "code",
   "execution_count": null,
   "id": "273f0ed5",
   "metadata": {
    "scrolled": true
   },
   "outputs": [],
   "source": [
    "df[\"categories\"].value_counts()"
   ]
  },
  {
   "cell_type": "markdown",
   "id": "465104cb",
   "metadata": {},
   "source": []
  },
  {
   "cell_type": "code",
   "execution_count": null,
   "id": "f15431c1",
   "metadata": {
    "scrolled": true
   },
   "outputs": [],
   "source": []
  },
  {
   "cell_type": "code",
   "execution_count": null,
   "id": "c7673d52",
   "metadata": {
    "scrolled": true
   },
   "outputs": [],
   "source": []
  },
  {
   "cell_type": "code",
   "execution_count": null,
   "id": "3ff39352",
   "metadata": {
    "scrolled": true
   },
   "outputs": [],
   "source": []
  },
  {
   "cell_type": "code",
   "execution_count": null,
   "id": "b155406b",
   "metadata": {},
   "outputs": [],
   "source": []
  },
  {
   "cell_type": "markdown",
   "id": "cbb7c11a",
   "metadata": {},
   "source": [
    "### Traitement des données"
   ]
  },
  {
   "cell_type": "code",
   "execution_count": null,
   "id": "b6e5eb9c",
   "metadata": {},
   "outputs": [],
   "source": [
    "#from keras.preprocessing.image import ImageDataGenerator\n",
    "\n",
    "#train_datagen=ImageDataGenerator(rescale=1./255)\n",
    "#test_datagen=ImageDataGenerator(rescale=1./255)\n",
    "data_test\n",
    "def traitement(data):\n",
    "    for i in range(0,data.shape[0]-1):\n",
    "        images+=[cv2.imread(data.iloc[i:0])/255]\n",
    "        labels+=[data.iloc[i:1]]"
   ]
  },
  {
   "cell_type": "code",
   "execution_count": null,
   "id": "8c802d03",
   "metadata": {},
   "outputs": [],
   "source": [
    "\n",
    "\n",
    "\n"
   ]
  },
  {
   "cell_type": "code",
   "execution_count": null,
   "id": "dff481f8",
   "metadata": {},
   "outputs": [],
   "source": [
    "\n",
    "\n",
    "\n",
    "path=\"C:/Users/ranus/alzheimer/archive(1)/OriginalDataset\"\n",
    "folder_path=[]\n",
    "label=[]\n",
    "for dirname,_, filename in os.walk(path):\n",
    "    folder_path.append(dirname)\n",
    "    label.append(dirname.split('/')[-1])\n",
    "    \n",
    "del folder_path[0] #On retire le 1er élément qui correspond au chemin path\n",
    "\n",
    "for i in range(len(folder_path)):\n",
    "    folder_path[i]=re.sub(\"\\\\\\\\\",\"/\",folder_path[i]) #On corrige les antislash en slash\n",
    "\n",
    "    \n",
    "#On renomme les fichiers\n",
    "for pat in folder_path:\n",
    "    j=0 #initalisationde l'accumulateur\n",
    "    for dirname ,_, filenames  in os.walk(pat):\n",
    "        a=re.sub(\"\\\\\\\\\",\"/\",os.path.join(pat,filenames[j]))\n",
    "        b=re.sub(\"\\\\\\\\\",\"/\",os.path.join(pat.split(\"/\")[-1],str(j)+'.jpg'))\n",
    "        j+=1\n",
    "        #print(a)\n",
    "        #print(b)"
   ]
  },
  {
   "cell_type": "code",
   "execution_count": null,
   "id": "ee8e0d15",
   "metadata": {},
   "outputs": [],
   "source": [
    "path=\"C:/Users/ranus/alzheimer/archive(1)/OriginalDataset\"\n",
    "folder_path=[]\n",
    "for dirname,_, filename in os.walk(path):\n",
    "    folder_path.append(dirname)\n",
    "    \n",
    "del folder_path[0] #On retire le 1er élément qui correspond au chemin path\n",
    "\n",
    "for i in range(len(folder_path)):\n",
    "    folder_path[i]=re.sub(\"\\\\\\\\\",\"/\",folder_path[i]) #On corrige les antislash en slash\n",
    "\n",
    "    \n",
    "#On renomme les fichiers\n",
    "for pat in folder_path:\n",
    "    j=0 #initalisationde l'accumulateur\n",
    "    for dirname ,_, filenames  in os.walk(pat):\n",
    "        for file in filenames:\n",
    "            a=os.path.join(pat,file)\n",
    "            print(re.sub(\"\\\\\\\\\",\"/\",a))"
   ]
  },
  {
   "cell_type": "markdown",
   "id": "e5fbbc36",
   "metadata": {},
   "source": [
    "## YOLO"
   ]
  },
  {
   "cell_type": "code",
   "execution_count": 30,
   "id": "edeadda4",
   "metadata": {},
   "outputs": [
    {
     "name": "stdout",
     "output_type": "stream",
     "text": [
      "tf.Tensor([ 32 208 176   3], shape=(4,), dtype=int32)\n",
      "tf.Tensor([32  4], shape=(2,), dtype=int32)\n"
     ]
    }
   ],
   "source": [
    "print(tf.shape(train_generator.next()[0]))\n",
    "print(tf.shape(train_generator.next()[1]))\n"
   ]
  }
 ],
 "metadata": {
  "kernelspec": {
   "display_name": "Python 3 (ipykernel)",
   "language": "python",
   "name": "python3"
  },
  "language_info": {
   "codemirror_mode": {
    "name": "ipython",
    "version": 3
   },
   "file_extension": ".py",
   "mimetype": "text/x-python",
   "name": "python",
   "nbconvert_exporter": "python",
   "pygments_lexer": "ipython3",
   "version": "3.9.12"
  }
 },
 "nbformat": 4,
 "nbformat_minor": 5
}
