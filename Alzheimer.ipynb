{
 "cells": [
  {
   "cell_type": "code",
   "execution_count": 4,
   "id": "0a056aa2",
   "metadata": {},
   "outputs": [],
   "source": [
    "import numpy as np\n",
    "import pandas as pd\n",
    "from keras import layers\n",
    "from keras.preprocessing.image import ImageDataGenerator\n",
    "import tensorflow as tf\n",
    "from matplotlib import pyplot as plt\n",
    "\n",
    "from sklearn.model_selection import train_test_split\n",
    "import pathlib\n",
    "import cv2\n",
    "import os\n",
    "import shutil\n",
    "import random"
   ]
  },
  {
   "cell_type": "markdown",
   "id": "b6af48d4",
   "metadata": {},
   "source": [
    "## Division des données"
   ]
  },
  {
   "cell_type": "code",
   "execution_count": 7,
   "id": "88ee9e13",
   "metadata": {},
   "outputs": [],
   "source": [
    "path=pathlib.Path(\"C:/Users/ranus/alzheimer/archive(1)/OriginalDataset\")\n",
    "path2=os.path.join(path,\"SplitData\")\n",
    "train_dir=os.path.join(path2,'train')\n",
    "os.mkdir(\"train\")\n",
    "valid_dir=os.path.join(path2,'validation')\n",
    "os.mkdir(\"validation\")\n",
    "test_dir=os.path.join(path2,'test')\n",
    "os.mkdir(\"test_dir\")\n",
    "\n",
    "train_dir_MildDemented=os.path.join(train_dir,\"MildDemented\")\n",
    "os.mkdir(\"train_dir_MildDemented\")\n",
    "\n",
    "valid_dir_MildDemented=os.path.join(train_dir,\"MildDemented\")\n",
    "os.mkdir(\"validation_dir_MildDemented\")\n",
    "\n",
    "test_dir_MildDemented=os.path.join(test_dir,\"MildDemented\")\n",
    "os.mkdir(\"test_dir_MildDemented\")\n",
    "\n",
    "train_dir_ModerateDemented=os.path.join(train_dir,\"ModerateDemented\")\n",
    "os.mkdir(\"train_dir_ModerateDemented\")\n",
    "\n",
    "valid_dir_ModerateDemented=os.path.join(train_dir,\"ModerateDemented\")\n",
    "os.mkdir(\"validation_dir_ModerateDemented\")\n",
    "\n",
    "test_dir_ModerateDemented=os.path.join(test_dir,\"ModerateDemented\")\n",
    "os.mkdir(\"test_dir_ModerateDemented\")\n",
    "\n",
    "train_dir_NonDemented=os.path.join(train_dir,\"NonDemented\")\n",
    "os.mkdir(\"train_dir_NonDemented\")\n",
    "\n",
    "valid_dir_NonDemented=os.path.join(train_dir,\"NonDemented\")\n",
    "os.mkdir(\"validation_dir_NonDemented\")\n",
    "\n",
    "test_dir_NonDemented=os.path.join(test_dir,\"NonDemented\")\n",
    "os.mkdir(\"test_dir_NonDemented\")\n",
    "\n",
    "\n",
    "train_dir_VeryMildDemented=os.path.join(train_dir,\"VeryMildDemented\")\n",
    "os.mkdir(\"train_dir_VeryMildDemented\")\n",
    "\n",
    "valid_dir_VeryMildDemented=os.path.join(train_dir,\"VeryMildDemented\")\n",
    "os.mkdir(\"validation_dir_VeryMildDemented\")\n",
    "\n",
    "test_dir_VeryMildDemented=os.path.join(test_dir,\"VeryMildDemented\")\n",
    "os.mkdir(\"test_dir_VeryMildDemented\")\n",
    "\n",
    "fnames=['{}.jpg'.format(i) for i in range(0,2*896//4)]\n",
    "for fname in fnames:\n",
    "    src=os.path.join(path,fname)\n",
    "    dst=os.path.join(train_dir_MildDemented,fname)\n",
    "    shutil.copyfile(src,dst)\n",
    "\n",
    "fnames=['{}.jpg'.format(i) for i in range(2*896//4,3*896//4)]\n",
    "for fname in fnames:\n",
    "    src=os.path.join(path,fname)\n",
    "    dst=os.path.join(valid_dir_MildDemented,fname)\n",
    "    shutil.copyfile(src,dst)\n",
    "\n",
    "    fnames=['{}.jpg'.format(i) for i in range(3*896//4,896)]\n",
    "for fname in fnames:\n",
    "    src=os.path.join(path,fname)\n",
    "    dst=os.path.join(test_dir_MildDemented,fname)\n",
    "    shutil.copyfile(src,dst)\n",
    "\n",
    "    fnames=['{}.jpg'.format(i) for i in range(0,2*64//4)]\n",
    "for fname in fnames:\n",
    "    src=os.path.join(path,fname)\n",
    "    dst=os.path.join(train_dir_ModerateDemented,fname)\n",
    "    shutil.copyfile(src,dst)\n",
    "    \n",
    "fnames=['{}.jpg'.format(i) for i in range(2*64//4,3*64//4)]\n",
    "for fname in fnames:\n",
    "    src=os.path.join(path,fname)\n",
    "    dst=os.path.join(valid_dir_ModerateDemented,fname)\n",
    "    shutil.copyfile(src,dst)\n",
    "\n",
    "    fnames=['{}.jpg'.format(i) for i in range(3*64,64)]\n",
    "for fname in fnames:\n",
    "    src=os.path.join(path,fname)\n",
    "    dst=os.path.join(test_dir_ModerateDemented,fname)\n",
    "    shutil.copyfile(src,dst)\n",
    "\n",
    "    fnames=['{}.jpg'.format(i) for i in range(0,3200//2)]\n",
    "for fname in fnames:\n",
    "    src=os.path.join(path,fname)\n",
    "    dst=os.path.join(train_dir_NonDemented,fname)\n",
    "    shutil.copyfile(src,dst)\n",
    "\n",
    "    fnames=['{}.jpg'.format(i) for i in range(3200//2,3*3200//4)]\n",
    "for fname in fnames:\n",
    "    src=os.path.join(path,fname)\n",
    "    dst=os.path.join(valid_dir_NonDemented,fname)\n",
    "    shutil.copyfile(src,dst)\n",
    "\n",
    "    fnames=['{}.jpg'.format(i) for i in range(3*3200//4,3200)]\n",
    "for fname in fnames:\n",
    "    src=os.path.join(path,fname)\n",
    "    dst=os.path.join(test_dir_NonDemented,fname)\n",
    "    shutil.copyfile(src,dst)\n",
    "\n",
    "fnames=['{}.jpg'.format(i) for i in range(3*2240//4,2240)]\n",
    "for fname in fnames:\n",
    "    src=os.path.join(path,fname)\n",
    "    dst=os.path.join(test_dir_VeryMildDemented,fname)\n",
    "    shutil.copyfile(src,dst)\n",
    "\n",
    "fnames=['{}.jpg'.format(i) for i in range(2240//2,3*2240//4)]\n",
    "for fname in fnames:\n",
    "    src=os.path.join(path,fname)\n",
    "    dst=os.path.join(valid_dir_VeryMildDemented,fname)\n",
    "    shutil.copyfile(src,dst)\n",
    "    \n",
    "fnames=['{}.jpg'.format(i) for i in range(0,2240//2)]\n",
    "for fname in fnames:\n",
    "    src=os.path.join(path,fname)\n",
    "    dst=os.path.join(train_dir_VeryMildDemented,fname)\n",
    "    shutil.copyfile(src,dst)\n",
    "#MildDemented:896 FICHIER\n",
    "#ModerateDemented:64\n",
    "#NonDemented: 3200\n",
    "#VeryMildDemented: 2240"
   ]
  },
  {
   "cell_type": "markdown",
   "id": "f849c95d",
   "metadata": {},
   "source": [
    "## Pré traitement des données"
   ]
  },
  {
   "cell_type": "code",
   "execution_count": 1,
   "id": "ea6c7dc6",
   "metadata": {},
   "outputs": [
    {
     "ename": "NameError",
     "evalue": "name 'ImageDataGenerator' is not defined",
     "output_type": "error",
     "traceback": [
      "\u001b[1;31m---------------------------------------------------------------------------\u001b[0m",
      "\u001b[1;31mNameError\u001b[0m                                 Traceback (most recent call last)",
      "Input \u001b[1;32mIn [1]\u001b[0m, in \u001b[0;36m<cell line: 1>\u001b[1;34m()\u001b[0m\n\u001b[1;32m----> 1\u001b[0m train_datagen\u001b[38;5;241m=\u001b[39m\u001b[43mImageDataGenerator\u001b[49m(rescale\u001b[38;5;241m=\u001b[39m\u001b[38;5;241m1.\u001b[39m\u001b[38;5;241m/\u001b[39m\u001b[38;5;241m255\u001b[39m)\n\u001b[0;32m      2\u001b[0m test_datagen\u001b[38;5;241m=\u001b[39mImageDataGenerator(rescale\u001b[38;5;241m=\u001b[39m\u001b[38;5;241m1.\u001b[39m\u001b[38;5;241m/\u001b[39m\u001b[38;5;241m255\u001b[39m)\n\u001b[0;32m      3\u001b[0m valid_datagen\u001b[38;5;241m=\u001b[39mImageDataGenerator(rescale\u001b[38;5;241m=\u001b[39m\u001b[38;5;241m1.\u001b[39m\u001b[38;5;241m/\u001b[39m\u001b[38;5;241m255\u001b[39m)\n",
      "\u001b[1;31mNameError\u001b[0m: name 'ImageDataGenerator' is not defined"
     ]
    }
   ],
   "source": [
    "train_datagen=ImageDataGenerator(rescale=1./255)\n",
    "test_datagen=ImageDataGenerator(rescale=1./255)\n",
    "valid_datagen=ImageDataGenerator(rescale=1./255)\n",
    "\n",
    "train_generator=train_datagen.flow_from_directory(train_dir,target_size=(150,150),batch_size=20,class_mode='binary')\n",
    "test_generator=test_datagen.flow_from_directory(test_dir,target_size=(150,150),batch_size=20,class_mode='binary')\n",
    "valid_generator=valid_datagen.flow_from_directory(valid_dir,target_size=(150,150),batch_size=20,class_mode='binary')"
   ]
  },
  {
   "cell_type": "code",
   "execution_count": 2,
   "id": "30371aa8",
   "metadata": {},
   "outputs": [
    {
     "data": {
      "text/html": [
       "<div>\n",
       "<style scoped>\n",
       "    .dataframe tbody tr th:only-of-type {\n",
       "        vertical-align: middle;\n",
       "    }\n",
       "\n",
       "    .dataframe tbody tr th {\n",
       "        vertical-align: top;\n",
       "    }\n",
       "\n",
       "    .dataframe thead th {\n",
       "        text-align: right;\n",
       "    }\n",
       "</style>\n",
       "<table border=\"1\" class=\"dataframe\">\n",
       "  <thead>\n",
       "    <tr style=\"text-align: right;\">\n",
       "      <th></th>\n",
       "      <th>images</th>\n",
       "      <th>categories</th>\n",
       "    </tr>\n",
       "  </thead>\n",
       "  <tbody>\n",
       "    <tr>\n",
       "      <th>0</th>\n",
       "      <td>C:\\Users\\ranus\\alzheimer\\archive(1)\\OriginalDa...</td>\n",
       "      <td>C:\\Users\\ranus\\alzheimer\\archive(1)\\OriginalDa...</td>\n",
       "    </tr>\n",
       "    <tr>\n",
       "      <th>1</th>\n",
       "      <td>C:\\Users\\ranus\\alzheimer\\archive(1)\\OriginalDa...</td>\n",
       "      <td>C:\\Users\\ranus\\alzheimer\\archive(1)\\OriginalDa...</td>\n",
       "    </tr>\n",
       "    <tr>\n",
       "      <th>2</th>\n",
       "      <td>C:\\Users\\ranus\\alzheimer\\archive(1)\\OriginalDa...</td>\n",
       "      <td>C:\\Users\\ranus\\alzheimer\\archive(1)\\OriginalDa...</td>\n",
       "    </tr>\n",
       "    <tr>\n",
       "      <th>3</th>\n",
       "      <td>C:\\Users\\ranus\\alzheimer\\archive(1)\\OriginalDa...</td>\n",
       "      <td>C:\\Users\\ranus\\alzheimer\\archive(1)\\OriginalDa...</td>\n",
       "    </tr>\n",
       "    <tr>\n",
       "      <th>4</th>\n",
       "      <td>C:\\Users\\ranus\\alzheimer\\archive(1)\\OriginalDa...</td>\n",
       "      <td>C:\\Users\\ranus\\alzheimer\\archive(1)\\OriginalDa...</td>\n",
       "    </tr>\n",
       "    <tr>\n",
       "      <th>...</th>\n",
       "      <td>...</td>\n",
       "      <td>...</td>\n",
       "    </tr>\n",
       "    <tr>\n",
       "      <th>6395</th>\n",
       "      <td>C:\\Users\\ranus\\alzheimer\\archive(1)\\OriginalDa...</td>\n",
       "      <td>C:\\Users\\ranus\\alzheimer\\archive(1)\\OriginalDa...</td>\n",
       "    </tr>\n",
       "    <tr>\n",
       "      <th>6396</th>\n",
       "      <td>C:\\Users\\ranus\\alzheimer\\archive(1)\\OriginalDa...</td>\n",
       "      <td>C:\\Users\\ranus\\alzheimer\\archive(1)\\OriginalDa...</td>\n",
       "    </tr>\n",
       "    <tr>\n",
       "      <th>6397</th>\n",
       "      <td>C:\\Users\\ranus\\alzheimer\\archive(1)\\OriginalDa...</td>\n",
       "      <td>C:\\Users\\ranus\\alzheimer\\archive(1)\\OriginalDa...</td>\n",
       "    </tr>\n",
       "    <tr>\n",
       "      <th>6398</th>\n",
       "      <td>C:\\Users\\ranus\\alzheimer\\archive(1)\\OriginalDa...</td>\n",
       "      <td>C:\\Users\\ranus\\alzheimer\\archive(1)\\OriginalDa...</td>\n",
       "    </tr>\n",
       "    <tr>\n",
       "      <th>6399</th>\n",
       "      <td>C:\\Users\\ranus\\alzheimer\\archive(1)\\OriginalDa...</td>\n",
       "      <td>C:\\Users\\ranus\\alzheimer\\archive(1)\\OriginalDa...</td>\n",
       "    </tr>\n",
       "  </tbody>\n",
       "</table>\n",
       "<p>6400 rows × 2 columns</p>\n",
       "</div>"
      ],
      "text/plain": [
       "                                                 images  \\\n",
       "0     C:\\Users\\ranus\\alzheimer\\archive(1)\\OriginalDa...   \n",
       "1     C:\\Users\\ranus\\alzheimer\\archive(1)\\OriginalDa...   \n",
       "2     C:\\Users\\ranus\\alzheimer\\archive(1)\\OriginalDa...   \n",
       "3     C:\\Users\\ranus\\alzheimer\\archive(1)\\OriginalDa...   \n",
       "4     C:\\Users\\ranus\\alzheimer\\archive(1)\\OriginalDa...   \n",
       "...                                                 ...   \n",
       "6395  C:\\Users\\ranus\\alzheimer\\archive(1)\\OriginalDa...   \n",
       "6396  C:\\Users\\ranus\\alzheimer\\archive(1)\\OriginalDa...   \n",
       "6397  C:\\Users\\ranus\\alzheimer\\archive(1)\\OriginalDa...   \n",
       "6398  C:\\Users\\ranus\\alzheimer\\archive(1)\\OriginalDa...   \n",
       "6399  C:\\Users\\ranus\\alzheimer\\archive(1)\\OriginalDa...   \n",
       "\n",
       "                                             categories  \n",
       "0     C:\\Users\\ranus\\alzheimer\\archive(1)\\OriginalDa...  \n",
       "1     C:\\Users\\ranus\\alzheimer\\archive(1)\\OriginalDa...  \n",
       "2     C:\\Users\\ranus\\alzheimer\\archive(1)\\OriginalDa...  \n",
       "3     C:\\Users\\ranus\\alzheimer\\archive(1)\\OriginalDa...  \n",
       "4     C:\\Users\\ranus\\alzheimer\\archive(1)\\OriginalDa...  \n",
       "...                                                 ...  \n",
       "6395  C:\\Users\\ranus\\alzheimer\\archive(1)\\OriginalDa...  \n",
       "6396  C:\\Users\\ranus\\alzheimer\\archive(1)\\OriginalDa...  \n",
       "6397  C:\\Users\\ranus\\alzheimer\\archive(1)\\OriginalDa...  \n",
       "6398  C:\\Users\\ranus\\alzheimer\\archive(1)\\OriginalDa...  \n",
       "6399  C:\\Users\\ranus\\alzheimer\\archive(1)\\OriginalDa...  \n",
       "\n",
       "[6400 rows x 2 columns]"
      ]
     },
     "execution_count": 2,
     "metadata": {},
     "output_type": "execute_result"
    }
   ],
   "source": [
    "image=[]\n",
    "categorie=[]\n",
    "for dirname, _,filenames in os.walk(path2):\n",
    "    for filename in filenames:\n",
    "        #print(os.path.join(dirname,filename))\n",
    "        #image=image.append(str(path/filename/filenames))\n",
    "        #categorie=categorie.append(str(filename))\n",
    "        image+=[os.path.join(dirname, filename)]\n",
    "        categorie+=[dirname.split('/')[-1]]\n",
    "\n",
    "#data_df=pd.DataFrame(columns=['image','cate'])\n",
    "#data_df['image']=image\n",
    "#data_df['cate']=categorie\n",
    "#data_df.head()\n",
    "df=pd.DataFrame({\"images\":image,\"categories\":categorie})\n",
    "df\n",
    "np.random.shuffle(df)"
   ]
  },
  {
   "cell_type": "code",
   "execution_count": 3,
   "id": "f15431c1",
   "metadata": {
    "scrolled": true
   },
   "outputs": [],
   "source": [
    "data, data_test=train_test_split(df,test_size=0.25)\n",
    "data_train, data_validation=train_test_split(data,test_size=0.33)"
   ]
  },
  {
   "cell_type": "code",
   "execution_count": 4,
   "id": "c7673d52",
   "metadata": {
    "scrolled": true
   },
   "outputs": [
    {
     "data": {
      "text/plain": [
       "(208, 176, 3)"
      ]
     },
     "execution_count": 4,
     "metadata": {},
     "output_type": "execute_result"
    },
    {
     "data": {
      "image/png": "[encoded data removed]",
      "text/plain": [
       "<Figure size 432x288 with 1 Axes>"
      ]
     },
     "metadata": {
      "needs_background": "light"
     },
     "output_type": "display_data"
    }
   ],
   "source": [
    "p=random.randint(0,data_train.shape[0])\n",
    "p\n",
    "photo=data_train.iloc[p,0]\n",
    "image=cv2.imread(photo)/255\n",
    "plt.imshow(image)\n",
    "image.shape"
   ]
  },
  {
   "cell_type": "markdown",
   "id": "9eb6332f",
   "metadata": {},
   "source": [
    "## Classification\n",
    "\n",
    "### Modele de CNN"
   ]
  },
  {
   "cell_type": "code",
   "execution_count": 5,
   "id": "3ff39352",
   "metadata": {
    "scrolled": true
   },
   "outputs": [
    {
     "name": "stdout",
     "output_type": "stream",
     "text": [
      "Model: \"sequential\"\n",
      "_________________________________________________________________\n",
      " Layer (type)                Output Shape              Param #   \n",
      "=================================================================\n",
      " conv2d (Conv2D)             (None, 206, 174, 32)      896       \n",
      "                                                                 \n",
      " max_pooling2d (MaxPooling2D  (None, 103, 87, 32)      0         \n",
      " )                                                               \n",
      "                                                                 \n",
      " conv2d_1 (Conv2D)           (None, 101, 85, 64)       18496     \n",
      "                                                                 \n",
      " max_pooling2d_1 (MaxPooling  (None, 50, 42, 64)       0         \n",
      " 2D)                                                             \n",
      "                                                                 \n",
      " conv2d_2 (Conv2D)           (None, 48, 40, 128)       73856     \n",
      "                                                                 \n",
      " max_pooling2d_2 (MaxPooling  (None, 24, 20, 128)      0         \n",
      " 2D)                                                             \n",
      "                                                                 \n",
      " conv2d_3 (Conv2D)           (None, 22, 18, 128)       147584    \n",
      "                                                                 \n",
      " max_pooling2d_3 (MaxPooling  (None, 11, 9, 128)       0         \n",
      " 2D)                                                             \n",
      "                                                                 \n",
      " flatten (Flatten)           (None, 12672)             0         \n",
      "                                                                 \n",
      " dense (Dense)               (None, 512)               6488576   \n",
      "                                                                 \n",
      " dense_1 (Dense)             (None, 4)                 2052      \n",
      "                                                                 \n",
      "=================================================================\n",
      "Total params: 6,731,460\n",
      "Trainable params: 6,731,460\n",
      "Non-trainable params: 0\n",
      "_________________________________________________________________\n"
     ]
    }
   ],
   "source": [
    "model=tf.keras.models.Sequential()\n",
    "model.add(layers.Conv2D(32,(3,3),activation=\"relu\",input_shape=(208,176,3)))\n",
    "model.add(layers.MaxPooling2D((2,2)))\n",
    "model.add(layers.Conv2D(64,(3,3),activation='relu'))\n",
    "model.add(layers.MaxPooling2D((2,2)))\n",
    "model.add(layers.Conv2D(128,(3,3),activation='relu'))\n",
    "model.add(layers.MaxPooling2D((2,2)))\n",
    "model.add(layers.Conv2D(128,(3,3),activation='relu'))\n",
    "model.add(layers.MaxPooling2D((2,2)))\n",
    "model.add(layers.Flatten())\n",
    "model.add(layers.Dense(512,activation='relu'))\n",
    "model.add(layers.Dense(4,activation='softmax'))\n",
    "\n",
    "model.summary()"
   ]
  },
  {
   "cell_type": "code",
   "execution_count": 6,
   "id": "b155406b",
   "metadata": {},
   "outputs": [],
   "source": [
    "model.compile(optimizer=\"adam\",loss='sparse_categorical_crossentropy',metrics=[\"acc\"])"
   ]
  },
  {
   "cell_type": "markdown",
   "id": "cbb7c11a",
   "metadata": {},
   "source": [
    "### Traitement des données"
   ]
  },
  {
   "cell_type": "code",
   "execution_count": 11,
   "id": "b6e5eb9c",
   "metadata": {},
   "outputs": [],
   "source": [
    "#from keras.preprocessing.image import ImageDataGenerator\n",
    "\n",
    "#train_datagen=ImageDataGenerator(rescale=1./255)\n",
    "#test_datagen=ImageDataGenerator(rescale=1./255)\n",
    "data_test\n",
    "def traitement(data):\n",
    "    for i in range(0,data.shape[0]-1):\n",
    "        images+=[cv2.imread(data.iloc[i:0])/255]\n",
    "        labels+=[data.iloc[i:1]]"
   ]
  }
 ],
 "metadata": {
  "kernelspec": {
   "display_name": "Python 3 (ipykernel)",
   "language": "python",
   "name": "python3"
  },
  "language_info": {
   "codemirror_mode": {
    "name": "ipython",
    "version": 3
   },
   "file_extension": ".py",
   "mimetype": "text/x-python",
   "name": "python",
   "nbconvert_exporter": "python",
   "pygments_lexer": "ipython3",
   "version": "3.9.12"
  }
 },
 "nbformat": 4,
 "nbformat_minor": 5
}
